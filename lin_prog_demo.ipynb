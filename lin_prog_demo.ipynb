{
 "cells": [
  {
   "cell_type": "markdown",
   "id": "4c1aa4f8",
   "metadata": {},
   "source": [
    "# Demo: Solving Linear Programming Problems in Python"
   ]
  },
  {
   "cell_type": "code",
   "execution_count": 1,
   "id": "fcd68afa",
   "metadata": {},
   "outputs": [],
   "source": [
    "# import libraries...\n",
    "import numpy as np\n",
    "from scipy.optimize import linprog"
   ]
  },
  {
   "cell_type": "markdown",
   "id": "9dc143d0",
   "metadata": {},
   "source": [
    "In this demo we'll see how to use a computer to solve linear programming problems. We focus on how to use the SciPy function $\\texttt{linprog}$ (imported in the code box above) for this purpose. We won't go into the details of how the numerical algorithms underlying $\\texttt{linprog}$ actually work, rather we just want to get a feeling for how this function can be used. "
   ]
  },
  {
   "cell_type": "markdown",
   "id": "d8d9a6be",
   "metadata": {},
   "source": [
    "## Example 1: Checking the Code with a Problem we've Already Solved"
   ]
  },
  {
   "cell_type": "markdown",
   "id": "83b125d7",
   "metadata": {},
   "source": [
    "First, let's see how $\\texttt{linprog}$ works by verifying that it gives us the correct result on the oil shipping problem: minimize \n",
    "$$ J(x_1, x_2)=x_1+4x_2 $$\n",
    "subject to the constraints   \n",
    "\\begin{align*}\n",
    "        x_1 + x_2 &\\leq 8,\n",
    "        \\\\\n",
    "        x_1 &\\geq 1,\n",
    "        \\\\\n",
    "        x_2 &\\geq 5. \n",
    "    \\end{align*}"
   ]
  },
  {
   "cell_type": "markdown",
   "id": "9ef09e4e",
   "metadata": {},
   "source": [
    "The cost function $J$ for our problem must be passed to the code via its coefficient vector. Here,\n",
    "$$\n",
    "c = \\begin{bmatrix} 1 \\\\ 4\\end{bmatrix}. \n",
    "$$\n",
    "That is, \n",
    "$$\n",
    "J(x_1, x_2) = c\\cdot \\begin{bmatrix} x_1 \\\\ x_2\\end{bmatrix}.  \n",
    "$$\n",
    "When performing math computations in Python, it's good to input vector as NumPy arrays:"
   ]
  },
  {
   "cell_type": "code",
   "execution_count": 2,
   "id": "c67e95a0",
   "metadata": {},
   "outputs": [
    {
     "name": "stdout",
     "output_type": "stream",
     "text": [
      "c= [1. 4.]\n"
     ]
    }
   ],
   "source": [
    "c = np.array([1., 4.])\n",
    "print('c=',c)"
   ]
  },
  {
   "cell_type": "markdown",
   "id": "f4ed88f4",
   "metadata": {},
   "source": [
    "Note how we input the decimal places in the above definition of $c$ to make sure that the computer knows we want to consider them as approximately real numbers (more specifically, floating-point numbers), not integers. "
   ]
  },
  {
   "cell_type": "markdown",
   "id": "c6eb7bc1",
   "metadata": {},
   "source": [
    "Next, we represent the first constraint with a constraint matrix, which is actually just a vector here: \n",
    "$$\n",
    "A = \\begin{bmatrix}\n",
    "1 & 1 \n",
    "\\end{bmatrix}, \\quad b = \\begin{bmatrix}\n",
    "8 \n",
    "\\end{bmatrix}.\n",
    "$$\n",
    "Additionally, we impose the last two constraints by demanding that \n",
    "$$\n",
    "\\begin{bmatrix} 1 \\\\ 5\\end{bmatrix}  \\leq \\begin{bmatrix} x_1 \\\\ x_2\\end{bmatrix} < \\begin{bmatrix} \\infty \\\\ \\infty \\end{bmatrix},\n",
    "$$\n",
    "where the inequalities are enforced entry-wise. \n",
    "The feasible set is then the set of $\\begin{bmatrix} x_1 \\\\ x_2\\end{bmatrix}\\in \\mathbb{R}^2$ such that \n",
    "$$\n",
    "A\\begin{bmatrix} x_1 \\\\ x_2\\end{bmatrix} \\leq b\n",
    "$$\n",
    "and $x_1, x_2$ satisfying the bounds above. "
   ]
  },
  {
   "cell_type": "code",
   "execution_count": 3,
   "id": "ffedbc73",
   "metadata": {},
   "outputs": [
    {
     "name": "stdout",
     "output_type": "stream",
     "text": [
      "A= [[1. 1.]]\n",
      "b= [8.]\n",
      "bounds = [[1.0 None]\n",
      " [5.0 None]]\n"
     ]
    }
   ],
   "source": [
    "A = np.array([[1.,1.]]) # code note: bcz of the way linprog is written,\n",
    "# you have to make sure A is still a matrix, hence the double brackets\n",
    "b = np.array([8.])\n",
    "bounds = np.array([[1.,None],[5.,None]])\n",
    "print('A=',A)\n",
    "print('b=',b)\n",
    "print('bounds =', bounds)"
   ]
  },
  {
   "cell_type": "markdown",
   "id": "edfdf21b",
   "metadata": {},
   "source": [
    "Now we just pass $c, A, b, \\texttt{bounds}$ into $\\texttt{linprog}$ to get..."
   ]
  },
  {
   "cell_type": "code",
   "execution_count": 4,
   "id": "1dd6e8d6",
   "metadata": {},
   "outputs": [
    {
     "name": "stdout",
     "output_type": "stream",
     "text": [
      "optimal plan (x_1, x_2) = [1. 5.]\n"
     ]
    }
   ],
   "source": [
    "optimal_plan = linprog(c, A_ub = A, b_ub = b, bounds = bounds)\n",
    "print('optimal plan (x_1, x_2) =', optimal_plan['x'])\n",
    "# code note: the output optimal_plan is NOT a number, but rather a scipy.optimize \n",
    "# OptimizeResult object. So, we need to call its attribute 'x', which in our jargon\n",
    "# is the optimal plan itself. "
   ]
  },
  {
   "cell_type": "markdown",
   "id": "353337d1",
   "metadata": {},
   "source": [
    "And presto, $\\texttt{linprog}$ has reproduced the result we found with pen and paper! So, at least in this very simple case, we can be confident that this function doesn't spit our garbage. "
   ]
  },
  {
   "cell_type": "markdown",
   "id": "e23c3892",
   "metadata": {},
   "source": [
    "## Example 2: A Large-Scale Problem"
   ]
  },
  {
   "cell_type": "markdown",
   "id": "759ffe8e",
   "metadata": {},
   "source": [
    "Now, let's try a huge linear programming problem no human could ever solve! We just define our cost and constraints randomly, and set our bound simply to be $[0,\\infty)$ entrywise.  "
   ]
  },
  {
   "cell_type": "code",
   "execution_count": 5,
   "id": "6531e6ec",
   "metadata": {},
   "outputs": [],
   "source": [
    "n = 70\n",
    "m = 89\n",
    "np.random.seed(32) # this just makes sure you'll get the same result each time, \n",
    "# even though the choices are random! The number '32' is not special, it's just\n",
    "# my favourite number :) \n",
    "c_big = np.random.normal(loc= 0., scale=5., size=[n])\n",
    "A_big = np.random.normal(loc= 0., scale=10., size=[m,n])\n",
    "b_big = np.random.normal(loc= 1., scale=1., size=[m])\n",
    "#print(A_big)"
   ]
  },
  {
   "cell_type": "code",
   "execution_count": 6,
   "id": "180ccdc1",
   "metadata": {},
   "outputs": [
    {
     "name": "stdout",
     "output_type": "stream",
     "text": [
      "optimal plan = [0.0413979  0.00522611 0.         0.05291629 0.         0.\n",
      " 0.         0.         0.02696917 0.0612755  0.         0.\n",
      " 0.         0.06727063 0.04993876 0.         0.         0.03222658\n",
      " 0.         0.         0.         0.         0.         0.\n",
      " 0.05215897 0.         0.         0.03079491 0.02637012 0.\n",
      " 0.02186061 0.         0.0232205  0.         0.00947505 0.\n",
      " 0.03525714 0.         0.         0.01832015 0.         0.\n",
      " 0.09803485 0.         0.02634066 0.         0.         0.\n",
      " 0.         0.         0.03669478 0.         0.         0.\n",
      " 0.00504087 0.01275909 0.         0.05039388 0.05864123 0.\n",
      " 0.1472151  0.08556319 0.08411055 0.00190335 0.         0.06806798\n",
      " 0.         0.09692143 0.         0.        ]\n"
     ]
    }
   ],
   "source": [
    "optimal_plan = linprog(c_big, A_ub = A_big, b_ub = b_big, bounds = None)\n",
    "print('optimal plan =', optimal_plan['x'])"
   ]
  },
  {
   "cell_type": "markdown",
   "id": "e32278f0",
   "metadata": {},
   "source": [
    "In no time at all, $\\texttt{lin_prog}$ has solved a huge problem with $n=70$ design variables and $m=89$ constraints! This really demonstrates how much coding can help an applied mathematician. "
   ]
  },
  {
   "cell_type": "markdown",
   "id": "d1c4286a",
   "metadata": {},
   "source": [
    "A final caveat: there are different ways of using Python to solve optimization problems, and the methods using $\\texttt{linprog}$ today may be too simple for practical industrial work where one may have to worry about the data type used to specify the programming problem etc. For solving such tough real-life problems, one may wish to use, for example, a library like PuLP: https://coin-or.github.io/pulp/index.html. "
   ]
  },
  {
   "cell_type": "code",
   "execution_count": null,
   "id": "9227b951",
   "metadata": {},
   "outputs": [],
   "source": []
  }
 ],
 "metadata": {
  "kernelspec": {
   "display_name": "Python 3",
   "language": "python",
   "name": "python3"
  },
  "language_info": {
   "codemirror_mode": {
    "name": "ipython",
    "version": 3
   },
   "file_extension": ".py",
   "mimetype": "text/x-python",
   "name": "python",
   "nbconvert_exporter": "python",
   "pygments_lexer": "ipython3",
   "version": "3.10.9"
  }
 },
 "nbformat": 4,
 "nbformat_minor": 5
}
